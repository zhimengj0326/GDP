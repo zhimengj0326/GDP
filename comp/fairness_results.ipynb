{
 "metadata": {
  "orig_nbformat": 4,
  "kernelspec": {
   "name": "python3",
   "display_name": "Python 3.9.1 64-bit ('jupyter': conda)"
  },
  "language_info": {
   "name": "python",
   "version": "3.9.1",
   "mimetype": "text/x-python",
   "codemirror_mode": {
    "name": "ipython",
    "version": 3
   },
   "pygments_lexer": "ipython3",
   "nbconvert_exporter": "python",
   "file_extension": ".py"
  },
  "interpreter": {
   "hash": "fa4135110663b2192d0748208073f3a72fe675f4cc13c80dde80de04c19dfefa"
  }
 },
 "nbformat": 4,
 "nbformat_minor": 2,
 "cells": [
  {
   "cell_type": "code",
   "execution_count": 1,
   "source": [
    "import re\n",
    "import seaborn as sns\n",
    "import matplotlib\n",
    "import matplotlib.pyplot as plt\n",
    "import matplotlib.cm as cm\n",
    "import shutil\n",
    "import numpy as np\n",
    "import pandas as pd\n",
    "from matplotlib.backends.backend_pdf import PdfPages"
   ],
   "outputs": [],
   "metadata": {}
  },
  {
   "cell_type": "code",
   "execution_count": 2,
   "source": [
    "def plot_err(x_input, results, labels, xylabels, title=None, path=None, plottype=None):\n",
    "    with PdfPages(f'{path}/{title.replace(\" \", \"_\")}.pdf') as pdf:\n",
    "        for i, (xaxis, result, label) in enumerate(zip(x_input, results, labels)):\n",
    "            if plottype=='semilogx':\n",
    "                plt.semilogx(xaxis, result, label=label, color=f'C{i}')\n",
    "            elif plottype=='semilogy': \n",
    "                plt.semilogy(xaxis, result, label=label, color=f'C{i}')\n",
    "            elif plottype=='loglog': \n",
    "                plt.loglog(xaxis, result, label=label, color=f'C{i}')\n",
    "            else:\n",
    "                if i==0:\n",
    "                    plt.scatter(xaxis, result, label=label, s=100, color=f'C{i}', marker=r'$\\clubsuit$')\n",
    "                elif i>0:\n",
    "                    index = np.argsort(xaxis).astype(int)\n",
    "                    xaxis = [ xaxis[i] for i in index ]\n",
    "                    result = [ result[i] for i in index ]\n",
    "                    # print(f'index={index}')\n",
    "                    plt.plot(xaxis, result, label=label, color=f'C{i}', marker='.')\n",
    "                else:\n",
    "                    plt.plot(xaxis, result, label=label, color=f'C{i}', marker='.')\n",
    "        # if title:\n",
    "        #     plt.title(title)\n",
    "        plt.xlabel(xylabels[0])\n",
    "        plt.ylabel(xylabels[1])\n",
    "        plt.legend()\n",
    "        plt.grid()\n",
    "        if path:\n",
    "            pdf.savefig()\n",
    "        plt.show()"
   ],
   "outputs": [],
   "metadata": {}
  },
  {
   "cell_type": "code",
   "execution_count": 3,
   "source": [
    "def extract_curve(file_path):\n",
    "    file_target = open(file_path, 'r')\n",
    "    perfs, fairs = np.empty([0]), np.empty([0])\n",
    "    for i, line in enumerate(file_target):\n",
    "        ls = line.strip('\\n')\n",
    "        if \"test acc\" in ls:\n",
    "            acc = re.findall(r\"test acc:(.*?)[,$]\", ls)\n",
    "            acc = np.float_(acc)\n",
    "            perf = acc\n",
    "            perfs = np.concatenate((perfs, perf))\n",
    "\n",
    "            # D_SP = np.float_(re.findall(r\"DP test:(.*)\", ls)[0])\n",
    "            D_SP = re.findall(r\"DP test:(.*)\", ls)\n",
    "            fair = np.float_(D_SP)\n",
    "            fairs = np.concatenate((fairs, fair))\n",
    "        elif \"test mae\" in ls:\n",
    "            acc = re.findall(r\"test mae:(.*?)[,$]\", ls)\n",
    "            acc = np.float_(acc)\n",
    "            perf = acc\n",
    "            perfs = np.concatenate((perfs, perf))\n",
    "\n",
    "            # D_SP = np.float_(re.findall(r\"DP test:(.*)\", ls)[0])\n",
    "            D_SP = re.findall(r\"DP test:(.*)\", ls)\n",
    "            fair = np.float_(D_SP)\n",
    "            fairs = np.concatenate((fairs, fair))\n",
    "        elif \"Average of performance and fairness metric:\" in ls:\n",
    "            break\n",
    "    return perfs, fairs\n",
    "\n",
    "def extract_perf(file_path):\n",
    "    file_target = open(file_path, 'r')\n",
    "    for i, line in enumerate(file_target):\n",
    "        ls = line.strip('\\n')\n",
    "        if \"Test statistics\" in ls:\n",
    "            if \"acc\" in ls:\n",
    "                acc = re.findall(r\"test acc:(.*)\", ls)[0]\n",
    "                acc = np.float_(acc.split('+-'))\n",
    "                perf = acc\n",
    "            elif \"mae\" in ls:\n",
    "                acc = re.findall(r\"test mae:(.*)\", ls)[0]\n",
    "                acc = np.float_(acc.split('+-'))\n",
    "                perf = acc\n",
    "            elif \"D_SP\" in ls:\n",
    "                D_SP = re.findall(r\"test D_SP:(.*)\", ls)[0]\n",
    "                D_SP = np.float_(D_SP.split('+-'))\n",
    "                fair = D_SP\n",
    "    return perf, fair"
   ],
   "outputs": [],
   "metadata": {}
  },
  {
   "cell_type": "code",
   "execution_count": 4,
   "source": [
    "file_path = f'./log/adult/kernel/-hyper=0.0-4.log'\n",
    "perf, fair = extract_perf(file_path)\n",
    "perf "
   ],
   "outputs": [
    {
     "output_type": "execute_result",
     "data": {
      "text/plain": [
       "array([7.997e-01, 5.000e-04])"
      ]
     },
     "metadata": {},
     "execution_count": 4
    }
   ],
   "metadata": {}
  },
  {
   "cell_type": "code",
   "execution_count": 5,
   "source": [
    "perf, fair = extract_curve(file_path)\n",
    "fair"
   ],
   "outputs": [
    {
     "output_type": "execute_result",
     "data": {
      "text/plain": [
       "array([0.0044, 0.0056, 0.0068, 0.0079, 0.0091, 0.0102, 0.0113, 0.0124,\n",
       "       0.0134, 0.0143, 0.0152, 0.016 , 0.0168, 0.0175, 0.0182, 0.0188,\n",
       "       0.0193, 0.0199, 0.0204, 0.0208, 0.0213, 0.0216, 0.022 , 0.0223,\n",
       "       0.0227, 0.023 , 0.0232, 0.0235, 0.0238, 0.024 , 0.0242, 0.0244,\n",
       "       0.0245, 0.0247, 0.0249, 0.025 , 0.0252, 0.0253, 0.0254, 0.0256,\n",
       "       0.0256, 0.0258, 0.0259, 0.026 , 0.0261, 0.0262, 0.0263, 0.0263,\n",
       "       0.0264, 0.0265, 0.0265, 0.0266, 0.0267, 0.0267, 0.0268, 0.0268,\n",
       "       0.0269, 0.0269, 0.027 , 0.027 , 0.0271, 0.0271, 0.0272, 0.0272,\n",
       "       0.0272, 0.0273, 0.0273, 0.0274, 0.0274, 0.0274, 0.0275, 0.0275,\n",
       "       0.0275, 0.0275, 0.0276, 0.0276, 0.0276, 0.0276, 0.0277, 0.0277,\n",
       "       0.0277, 0.0277, 0.0278, 0.0278, 0.0278, 0.0278, 0.0279, 0.0278,\n",
       "       0.0279, 0.0279, 0.0279, 0.0279, 0.0279, 0.028 , 0.028 , 0.028 ,\n",
       "       0.028 , 0.028 , 0.028 , 0.0281, 0.028 , 0.0281, 0.0281, 0.0281,\n",
       "       0.0281, 0.0281, 0.0281, 0.0281, 0.0281, 0.0281, 0.0282, 0.0281,\n",
       "       0.0282, 0.0282, 0.0282, 0.0282, 0.0282, 0.0282, 0.0282, 0.0283,\n",
       "       0.0282, 0.0283, 0.0283, 0.0283, 0.0283, 0.0283, 0.0283, 0.0283,\n",
       "       0.0283, 0.0283, 0.0284, 0.0283, 0.0284, 0.0284, 0.0284, 0.0284,\n",
       "       0.0284, 0.0284, 0.0284, 0.0284, 0.0285, 0.0285, 0.0285, 0.0285,\n",
       "       0.0285, 0.0285, 0.0285, 0.0284, 0.0285, 0.0285, 0.0286, 0.0285,\n",
       "       0.0285, 0.0285, 0.0285, 0.0286, 0.0286, 0.0286, 0.0286, 0.0286,\n",
       "       0.0286, 0.0286, 0.0286, 0.0287, 0.0287, 0.0286, 0.0287, 0.0287,\n",
       "       0.0287, 0.0287, 0.0287, 0.0287, 0.0287, 0.0287, 0.0287, 0.0287,\n",
       "       0.0288, 0.0287, 0.0288, 0.0288, 0.0288, 0.0288, 0.0288, 0.0288,\n",
       "       0.0288, 0.0288, 0.0288, 0.0288, 0.0289, 0.0288, 0.0289, 0.0288,\n",
       "       0.0289, 0.0289, 0.0289, 0.0289, 0.0289, 0.0289, 0.0289, 0.0289])"
      ]
     },
     "metadata": {},
     "execution_count": 5
    }
   ],
   "metadata": {}
  },
  {
   "cell_type": "code",
   "execution_count": 6,
   "source": [
    "def results_extract(method, dataset, alpha_vec=None, running_times=5):\n",
    "    perfs, fairs = np.empty([0,2]), np.empty([0, 2])\n",
    "\n",
    "    methods = [\"kernel\", \"kernel_bn\", \"adv\", \"adv_bn\"]\n",
    "    \n",
    "    if method in methods:\n",
    "        index = methods.index(method)\n",
    "        alphas = alpha_vec[index]\n",
    "        for alpha in alphas:\n",
    "            file_path = f'./log/{dataset}/{method}/-hyper={alpha}-{running_times-1}.log'\n",
    "            \n",
    "            perf, fair = extract_perf(file_path)\n",
    "            \n",
    "            perfs = np.concatenate((perfs, np.expand_dims(perf, 0)))\n",
    "            fairs = np.concatenate((fairs, np.expand_dims(fair, 0)))\n",
    "\n",
    "    return perfs, fairs"
   ],
   "outputs": [],
   "metadata": {}
  },
  {
   "cell_type": "code",
   "execution_count": 15,
   "source": [
    "def results_all(methods, dataset, alpha_vec=None, running_times=5):\n",
    "    perfs, fairs = [], []\n",
    "    for method in methods:\n",
    "        perf, fair = results_extract(method, dataset, alpha_vec, running_times)\n",
    "        perf, fair = list(perf[:,0]), list(fair[:,0])\n",
    "        if method==\"kernel\":\n",
    "            perfs.append(perf[0:1])\n",
    "            fairs.append(fair[0:1])\n",
    "\n",
    "        perfs.append(perf[1:])\n",
    "        fairs.append(fair[1:])\n",
    "    ### return len(methods) + 1\n",
    "    return perfs, fairs"
   ],
   "outputs": [],
   "metadata": {}
  },
  {
   "cell_type": "code",
   "execution_count": 8,
   "source": [
    "def plot_tradeoff(method_vec, dataset, alpha_vec, xylabels):\n",
    "    perfs, fairs = results_all(method_vec, dataset, alpha_vec)\n",
    "\n",
    "    xaxis = fairs\n",
    "    results = perfs\n",
    "    labels = ['vanilla', 'kernel', 'kernel_bn', 'adv', 'adv_bn']\n",
    "    # xylabels = ['DP', 'MAE']\n",
    "    title = f'{dataset}_tradeoff'\n",
    "    path = 'results'\n",
    "\n",
    "    plot_err(xaxis, results, labels, xylabels, title, path)"
   ],
   "outputs": [],
   "metadata": {}
  },
  {
   "cell_type": "code",
   "execution_count": 104,
   "source": [
    "dataset = 'adult'  ## 'adult' 'crimes'\n",
    "xylabels = ['DP', 'Acc']\n",
    "method_vec = ['kernel', 'kernel_bn', 'adv', 'adv_bn']   ## 'kernel', 'kernel_bn', 'adv', 'adv_bn'\n",
    "alpha_vec = [[0.0, 0.3, 1.0, 3.0, 5.0, 10.0, 30.0],\n",
    "            [0.0, 1.0, 3.0, 5.0, 10.0, 20.0, 30.0],\n",
    "            [0.0, 10.0, 50.0, 500.0, 1000.0],\n",
    "            [0.0, 1000.0, 1500.0, 2000.0, 3000.0, 5000.0]]\n",
    "## kernel = [0.0, 1.0, 3.0, 5.0, 10.0, 20.0, 50.0, 100.0, 200.0, 500.0]\n",
    "## adv = [0.0, 1.0, 10.0, 50.0, 100.0, 500.0, 1000.0, 2000.0]\n",
    "\n",
    "plot_tradeoff(method_vec, dataset, alpha_vec, xylabels)"
   ],
   "outputs": [
    {
     "output_type": "display_data",
     "data": {
      "image/png": "[encoded data removed]",
      "text/plain": [
       "<Figure size 432x288 with 1 Axes>"
      ]
     },
     "metadata": {
      "needs_background": "light"
     }
    }
   ],
   "metadata": {}
  },
  {
   "cell_type": "code",
   "execution_count": 105,
   "source": [
    "dataset = 'crimes'  ## 'adult' 'crimes'\n",
    "xylabels = ['DP', 'MAE']\n",
    "method_vec = ['kernel', 'kernel_bn', 'adv', 'adv_bn']   ## 'kernel', 'kernel_bn', 'adv', 'adv_bn'\n",
    "alpha_vec = [[0.0, 0.05, 0.5, 0.7, 1.0, 3.0, 5.0, 10.0, 20.0, 100.0],\n",
    "            [0.0, 0.05, 0.2, 0.5, 3.0, 5.0, 100.0],\n",
    "            [0.0, 100.0, 800.0, 1000.0, 1500.0, 2000.0, 3000.0],\n",
    "            [0.0, 800.0, 1000.0, 1500.0, 2000.0]]\n",
    "## kernel = [0.0, 1.0, 3.0, 5.0, 10.0, 20.0, 50.0, 100.0, 200.0, 500.0]\n",
    "## adv = [0.0, 1.0, 10.0, 50.0, 100.0, 500.0, 1000.0, 2000.0]\n",
    "\n",
    "plot_tradeoff(method_vec, dataset, alpha_vec, xylabels)"
   ],
   "outputs": [
    {
     "output_type": "display_data",
     "data": {
      "image/png": "[encoded data removed]",
      "text/plain": [
       "<Figure size 432x288 with 1 Axes>"
      ]
     },
     "metadata": {
      "needs_background": "light"
     }
    }
   ],
   "metadata": {}
  },
  {
   "cell_type": "code",
   "execution_count": null,
   "source": [],
   "outputs": [],
   "metadata": {}
  }
 ]
}